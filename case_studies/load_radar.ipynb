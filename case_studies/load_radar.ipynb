{
 "cells": [
  {
   "cell_type": "code",
   "execution_count": 1,
   "metadata": {},
   "outputs": [
    {
     "name": "stdout",
     "output_type": "stream",
     "text": [
      "\n",
      "## You are using the Python ARM Radar Toolkit (Py-ART), an open source\n",
      "## library for working with weather radar data. Py-ART is partly\n",
      "## supported by the U.S. Department of Energy as part of the Atmospheric\n",
      "## Radiation Measurement (ARM) Climate Research Facility, an Office of\n",
      "## Science user facility.\n",
      "##\n",
      "## If you use this software to prepare a publication, please cite:\n",
      "##\n",
      "##     JJ Helmus and SM Collis, JORS 2016, doi: 10.5334/jors.119\n",
      "\n"
     ]
    }
   ],
   "source": [
    "import pandas as pd\n",
    "import matplotlib.pyplot as plt\n",
    "import numpy as np\n",
    "import xarray as xr\n",
    "import numpy as np\n",
    "from mpl_toolkits.basemap import Basemap\n",
    "import datetime as dt\n",
    "import glob\n",
    "import os\n",
    "import pyart\n",
    "import zipfile\n",
    "import warnings"
   ]
  },
  {
   "cell_type": "code",
   "execution_count": 2,
   "metadata": {},
   "outputs": [
    {
     "name": "stderr",
     "output_type": "stream",
     "text": [
      "/g/data/eg3/ab4502/miniconda3/lib/python3.7/site-packages/ipykernel/ipkernel.py:283: DeprecationWarning: `should_run_async` will not call `transform_cell` automatically in the future. Please pass the result to `transformed_cell` argument and any exception that happen during thetransform in `preprocessing_exc_tuple` in IPython 7.17 and above.\n",
      "  and should_run_async(code)\n"
     ]
    }
   ],
   "source": [
    "def load_radar(rid, time, radar_t_delta=0):\n",
    "\n",
    "    #time: Time of interest (in this context, the time of maximum BARPAC gust). datetime object\n",
    "    #rid: Radar ID (https://www.openradar.io/operational-network). two-digit string\n",
    "    #radar_t_delta: Add some interval (in minutes) to look at a time relative to the time of maximum model gust. integer\n",
    "    \n",
    "    time = time + dt.timedelta(minutes=radar_t_delta)\n",
    "    \n",
    "    isfile = len(glob.glob(\"/g/data/eg3/ab4502/radar/\"+rid+\"_\"+time.strftime(\"%Y%m%d\")+\"*\")) > 0\n",
    "    \n",
    "    if not isfile:\n",
    "        print(\"INFO: UNPACKING RADAR FILE FOR ID \"+rid+\" AND TIME \"+time.strftime(\"%Y%m%d\"))\n",
    "        path_to_zip_file = \"/g/data/rq0/level_1/odim_pvol/\"+rid+\"/\"+str(time.year)+\"/vol/\"+rid+\"_\"+time.strftime(\"%Y%m%d\")+\".pvol.zip\"\n",
    "        directory_to_extract_to = \"/g/data/eg3/ab4502/radar/\"\n",
    "        with zipfile.ZipFile(path_to_zip_file, 'r') as zip_ref:\n",
    "            zip_ref.extractall(directory_to_extract_to)\n",
    "        \n",
    "    else:\n",
    "        print(\"INFO: LOADING RADAR FILE FOR ID \"+rid+\" AND TIME \"+time.strftime(\"%Y%m%d\"))\n",
    "        \n",
    "    files = glob.glob(\"/g/data/eg3/ab4502/radar/\"+rid+\"_\"+time.strftime(\"%Y%m%d\")+\"*\")\n",
    "    f_times = [fname.split(\"/\")[-1].split(\"_\")[2].split(\".\")[0] for fname in files]\n",
    "    radar_file=pyart.aux_io.read_odim_h5(\\\n",
    "                              files[np.argmin(np.array([abs(time-dt.datetime(time.year,time.month,time.day,int(f[0:2]),int(f[2:4]),int(f[4:6]))) for f in f_times]))],\\\n",
    "                              file_field_names=True)\n",
    "    return radar_file"
   ]
  }
 ],
 "metadata": {
  "kernelspec": {
   "display_name": "Python [conda env:miniconda3]",
   "language": "python",
   "name": "conda-env-miniconda3-py"
  },
  "language_info": {
   "codemirror_mode": {
    "name": "ipython",
    "version": 3
   },
   "file_extension": ".py",
   "mimetype": "text/x-python",
   "name": "python",
   "nbconvert_exporter": "python",
   "pygments_lexer": "ipython3",
   "version": "3.7.6"
  }
 },
 "nbformat": 4,
 "nbformat_minor": 4
}
